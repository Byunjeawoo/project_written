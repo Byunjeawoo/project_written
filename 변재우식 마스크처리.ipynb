{
 "cells": [
  {
   "cell_type": "markdown",
   "metadata": {},
   "source": [
    "# 모듈 설치하기\n",
    "\n",
    "### 먼저 이 프로젝트를 실행하기 위한 모듈을 설치해야합니다!\n",
    "\n",
    "___\n",
    "### 모듈을 설치하기위해 다음 명령어를 anaconda에서 실행하십시오\n",
    "\n",
    "- pip install opencv-python\n",
    "- pip install numpy\n",
    "- pip install matplotlib\n",
    "- pip install pytesseract\n",
    "- conda install -c conda-forge tesseract\n"
   ]
  },
  {
   "cell_type": "markdown",
   "metadata": {},
   "source": [
    "\n",
    "\n",
    "#### 만일 다른 언어를 인식시키고 싶다면 7 번째의 lang = '원하는 언어(ex:kor,eng...)'로 바꿔 주시고 \n",
    "https://github.com/tesseract-ocr/tesseract/wiki/Data-Files \n",
    "#### 을 방문하셔서 원하는 데이터를 다운받아 아래의 경로대로 다운받은 파일을 옮겨주십시오\n",
    "\n",
    "- C: (보기 - 숨겨진 파일 보기)\n",
    "- ProgramData\n",
    "- Anaconda3\n",
    "- envs\n",
    "- testAi(만들어 놓은 폴더이름 - 각자 다릅니다)\n",
    "- Library\n",
    "- bin \n",
    "- tessdata\n",
    "- [넣어주세요]\n",
    "\n"
   ]
  },
  {
   "cell_type": "code",
   "execution_count": 1,
   "metadata": {},
   "outputs": [],
   "source": [
    "import cv2\n",
    "import numpy as np\n",
    "import matplotlib.pyplot as plt\n",
    "import pytesseract\n",
    "import matplotlib.image as mpimg"
   ]
  },
  {
   "cell_type": "markdown",
   "metadata": {},
   "source": [
    "### 웹캠으로 사진을 찍어 인식시켜보세요!\n",
    "\n",
    "---\n",
    "#### 아래 코드는 웹캡으로 사진을 찍어 저장합니다."
   ]
  },
  {
   "cell_type": "code",
   "execution_count": 401,
   "metadata": {},
   "outputs": [],
   "source": [
    "capture = cv2.VideoCapture(0)\n",
    "capture.set(cv2.CAP_PROP_FRAME_WIDTH, 640)\n",
    "capture.set(cv2.CAP_PROP_FRAME_HEIGHT, 480)\n",
    "\n",
    "while True:\n",
    "    ret, frame = capture.read()\n",
    "    cv2.imshow(\"VideoFrame\", frame)\n",
    "    if cv2.waitKey(1) > 0: break\n",
    "\n",
    "capture.release()\n",
    "cv2.destroyAllWindows()\n",
    "CAM_ID = 0\n",
    "def capture(camid = CAM_ID):\n",
    "    cam = cv2.VideoCapture(camid)\n",
    "    if cam.isOpened() == False:\n",
    "        print ('cant open the cam (%d)' % camid)\n",
    "        return None\n",
    "    \n",
    "\n",
    "    ret, frame = cam.read()\n",
    "    if frame is None:\n",
    "        print ('frame is not exist')\n",
    "        return None\n",
    "    \n",
    "    #저장\n",
    "    cv2.imwrite('test_english.jpg',frame, params=[cv2.IMWRITE_PNG_COMPRESSION,0])\n",
    "    cam.release()\n",
    "    \n",
    "if __name__ == '__main__':\n",
    "    capture()"
   ]
  },
  {
   "cell_type": "markdown",
   "metadata": {},
   "source": [
    "## 이미지 불러오기\n",
    "\n",
    "#### opencv의 이미지( RGB)를 GRAY로 바꿔줍니다.\n",
    "\n",
    "- 보통 opencv에서 이미지는 BGR로 저장되기 때문에 RGB로 바꿔줘야 합니다.\n",
    "- \"test/test_apple.jpg\"는 이미지가 담겨있는 경로 이므로 이대로 시작하면 실행되지 않습니다.\n",
    "- 컴퓨터의 존재하는 다른 이미지의 경로로 설정해주십시오."
   ]
  },
  {
   "cell_type": "code",
   "execution_count": null,
   "metadata": {},
   "outputs": [],
   "source": [
    "#이미지를 RGB로 받았습니다.\n",
    "img_color = cv2.imread(\"test_english.jpg\", cv2.COLOR_BGR2HSV)"
   ]
  },
  {
   "cell_type": "markdown",
   "metadata": {},
   "source": [
    "## 이미지를 불러와 hsv로 속성 변환하기\n",
    "___\n",
    "\n",
    "#### 이번 코드에선 hsv를 이용해 글자만 분리해야하기 때문에 이미지를 hsv속성으로 바꾸어보겠습니다."
   ]
  },
  {
   "cell_type": "code",
   "execution_count": 11,
   "metadata": {},
   "outputs": [],
   "source": [
    "img_gray = cv2.bitwise_not(img_color)\n",
    "#hsv로 변환합니다.\n",
    "img_hsv = cv2.cvtColor(img_gray, cv2.COLOR_BGR2HSV)"
   ]
  },
  {
   "cell_type": "markdown",
   "metadata": {},
   "source": [
    "## 원하는 색상만 분리하기 위해서 hsv범위를 설정하고 마스크를 씌움\n",
    "---\n",
    "#### 검은색인 글씨만 추출하기위해 hsv범위를 설정합니다.\n",
    "- 설정한 범위 밖의 색깔을 무시합니다.\n",
    "- 인식할 범위의 최소와 최대를 입력합니다."
   ]
  },
  {
   "cell_type": "code",
   "execution_count": 12,
   "metadata": {},
   "outputs": [],
   "source": [
    "# 색상 범위 설정\n",
    "lower_black = (0, 0, 168)\n",
    "upper_black = (180, 255, 255)\n",
    "\n",
    "#제한한 색상범위로 mask를 만듦니다.\n",
    "img_mask = cv2.inRange(img_hsv, lower_black, upper_black)\n",
    "img_result = cv2.bitwise_and(img_gray, img_gray, mask=img_mask)"
   ]
  },
  {
   "cell_type": "markdown",
   "metadata": {},
   "source": [
    "## 마스크를 씌운 최종 이미지를 출력합니다."
   ]
  },
  {
   "cell_type": "code",
   "execution_count": 13,
   "metadata": {},
   "outputs": [
    {
     "data": {
      "image/png": "[encoded data removed]",
      "text/plain": [
       "<Figure size 432x288 with 1 Axes>"
      ]
     },
     "metadata": {
      "needs_background": "light"
     },
     "output_type": "display_data"
    }
   ],
   "source": [
    "# 결과 이미지를 만들고 출력합니다.\n",
    "img_result = cv2.resize(img_result, dsize=(1200, 900), interpolation=cv2.INTER_LINEAR)\n",
    "imgplot = plt.imshow(img_result)\n",
    "plt.axis('off')\n",
    "plt.show()"
   ]
  },
  {
   "cell_type": "markdown",
   "metadata": {},
   "source": [
    "## 최종 이미지 중 '영어'를 찾아 출력합니다.\n",
    "---\n",
    "> 인식이 잘 되지 않을 경우 색상 범위를 재설정 해주세요.\n",
    "\n",
    "- 현재 인식률이 낮아 수정중입니다 ㅠ"
   ]
  },
  {
   "cell_type": "code",
   "execution_count": 14,
   "metadata": {},
   "outputs": [
    {
     "name": "stdout",
     "output_type": "stream",
     "text": [
      "nee\n"
     ]
    }
   ],
   "source": [
    "text = pytesseract.image_to_string(img_result,lang='eng') \n",
    "print(text)"
   ]
  }
 ],
 "metadata": {
  "kernelspec": {
   "display_name": "Python 3",
   "language": "python",
   "name": "python3"
  },
  "language_info": {
   "codemirror_mode": {
    "name": "ipython",
    "version": 3
   },
   "file_extension": ".py",
   "mimetype": "text/x-python",
   "name": "python",
   "nbconvert_exporter": "python",
   "pygments_lexer": "ipython3",
   "version": "3.7.1"
  }
 },
 "nbformat": 4,
 "nbformat_minor": 2
}
